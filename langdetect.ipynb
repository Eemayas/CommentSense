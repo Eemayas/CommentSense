{
 "cells": [
  {
   "cell_type": "code",
   "execution_count": 6,
   "metadata": {},
   "outputs": [],
   "source": [
    "from googletrans import Translator"
   ]
  },
  {
   "cell_type": "code",
   "execution_count": 9,
   "metadata": {},
   "outputs": [],
   "source": [
    "translator = Translator()"
   ]
  },
  {
   "cell_type": "code",
   "execution_count": 8,
   "metadata": {},
   "outputs": [
    {
     "ename": "ModuleNotFoundError",
     "evalue": "No module named 'ftlangdetect'",
     "output_type": "error",
     "traceback": [
      "\u001b[1;31m---------------------------------------------------------------------------\u001b[0m",
      "\u001b[1;31mModuleNotFoundError\u001b[0m                       Traceback (most recent call last)",
      "\u001b[1;32me:\\NextJS\\commentsense\\langdetect.ipynb Cell 3\u001b[0m line \u001b[0;36m1\n\u001b[1;32m----> <a href='vscode-notebook-cell:/e%3A/NextJS/commentsense/langdetect.ipynb#W2sZmlsZQ%3D%3D?line=0'>1</a>\u001b[0m \u001b[39mfrom\u001b[39;00m \u001b[39mftlangdetect\u001b[39;00m \u001b[39mimport\u001b[39;00m detect\n\u001b[0;32m      <a href='vscode-notebook-cell:/e%3A/NextJS/commentsense/langdetect.ipynb#W2sZmlsZQ%3D%3D?line=2'>3</a>\u001b[0m result \u001b[39m=\u001b[39m detect(text\u001b[39m=\u001b[39m\u001b[39m\"\u001b[39m\u001b[39mBugün hava çok güzel\u001b[39m\u001b[39m\"\u001b[39m, low_memory\u001b[39m=\u001b[39m\u001b[39mFalse\u001b[39;00m)\n\u001b[0;32m      <a href='vscode-notebook-cell:/e%3A/NextJS/commentsense/langdetect.ipynb#W2sZmlsZQ%3D%3D?line=3'>4</a>\u001b[0m \u001b[39mprint\u001b[39m(result)\n",
      "\u001b[1;31mModuleNotFoundError\u001b[0m: No module named 'ftlangdetect'"
     ]
    }
   ],
   "source": [
    "from ftlangdetect import detect\n",
    "\n",
    "result = detect(text=\"Bugün hava çok güzel\", low_memory=False)\n",
    "print(result)"
   ]
  },
  {
   "cell_type": "code",
   "execution_count": 9,
   "metadata": {},
   "outputs": [
    {
     "ename": "NameError",
     "evalue": "name 'language_detection' is not defined",
     "output_type": "error",
     "traceback": [
      "\u001b[1;31m---------------------------------------------------------------------------\u001b[0m",
      "\u001b[1;31mNameError\u001b[0m                                 Traceback (most recent call last)",
      "\u001b[1;32me:\\NextJS\\commentsense\\langdetect.ipynb Cell 4\u001b[0m line \u001b[0;36m3\n\u001b[0;32m      <a href='vscode-notebook-cell:/e%3A/NextJS/commentsense/langdetect.ipynb#W3sZmlsZQ%3D%3D?line=0'>1</a>\u001b[0m \u001b[39m# Test the code\u001b[39;00m\n\u001b[0;32m      <a href='vscode-notebook-cell:/e%3A/NextJS/commentsense/langdetect.ipynb#W3sZmlsZQ%3D%3D?line=1'>2</a>\u001b[0m text \u001b[39m=\u001b[39m \u001b[39m\"\u001b[39m\u001b[39mHello, world!\u001b[39m\u001b[39m\"\u001b[39m\n\u001b[1;32m----> <a href='vscode-notebook-cell:/e%3A/NextJS/commentsense/langdetect.ipynb#W3sZmlsZQ%3D%3D?line=2'>3</a>\u001b[0m detected_language \u001b[39m=\u001b[39m language_detection(text)\n\u001b[0;32m      <a href='vscode-notebook-cell:/e%3A/NextJS/commentsense/langdetect.ipynb#W3sZmlsZQ%3D%3D?line=3'>4</a>\u001b[0m \u001b[39mprint\u001b[39m(\u001b[39mf\u001b[39m\u001b[39m\"\u001b[39m\u001b[39mDetected language: \u001b[39m\u001b[39m{\u001b[39;00mdetected_language\u001b[39m}\u001b[39;00m\u001b[39m\"\u001b[39m)\n",
      "\u001b[1;31mNameError\u001b[0m: name 'language_detection' is not defined"
     ]
    }
   ],
   "source": [
    "# Test the code\n",
    "text = \"Hello, world!\"\n",
    "detected_language = language_detection(text)\n",
    "print(f\"Detected language: {detected_language}\")"
   ]
  },
  {
   "cell_type": "code",
   "execution_count": 10,
   "metadata": {},
   "outputs": [
    {
     "name": "stdout",
     "output_type": "stream",
     "text": [
      "Detected language: en with confidence: 0.9999977366622846\n"
     ]
    }
   ],
   "source": [
    "from langdetect import detect, detect_langs\n",
    "\n",
    "def detect_language_with_confidence(text, confidence_threshold=0.5):\n",
    "    try:\n",
    "        # Detect the language of the text\n",
    "        language = detect(text)\n",
    "        \n",
    "        # Get the confidence score\n",
    "        confidence = detect_langs(text)[0].prob\n",
    "        \n",
    "        # Check if the confidence is above the threshold\n",
    "        if confidence >= confidence_threshold:\n",
    "            return language, confidence\n",
    "        else:\n",
    "            return \"Undetermined\", confidence\n",
    "    \n",
    "    except Exception as e:\n",
    "        # Handle exceptions, e.g., if the text is too short\n",
    "        return \"Error\", 0.0\n",
    "\n",
    "# Example usage\n",
    "text_to_detect = \"Hello, this is an example text.\"\n",
    "language, confidence = detect_language_with_confidence(text_to_detect)\n",
    "\n",
    "print(f\"Detected language: {language} with confidence: {confidence}\")\n"
   ]
  },
  {
   "cell_type": "code",
   "execution_count": 9,
   "metadata": {},
   "outputs": [
    {
     "data": {
      "text/plain": [
       "'en'"
      ]
     },
     "execution_count": 9,
     "metadata": {},
     "output_type": "execute_result"
    }
   ],
   "source": [
    "detect(\"Hello World\")"
   ]
  },
  {
   "cell_type": "code",
   "execution_count": null,
   "metadata": {},
   "outputs": [],
   "source": []
  }
 ],
 "metadata": {
  "kernelspec": {
   "display_name": "Python 3",
   "language": "python",
   "name": "python3"
  },
  "language_info": {
   "codemirror_mode": {
    "name": "ipython",
    "version": 3
   },
   "file_extension": ".py",
   "mimetype": "text/x-python",
   "name": "python",
   "nbconvert_exporter": "python",
   "pygments_lexer": "ipython3",
   "version": "3.11.5"
  }
 },
 "nbformat": 4,
 "nbformat_minor": 2
}
